{
 "cells": [
  {
   "cell_type": "markdown",
   "metadata": {},
   "source": [
    "# Indexación y filtros en NumPy\n",
    "\n",
    "Este archivo contiene los siguientes temas:\n",
    "* Slice indexing \n",
    "* Integer indexing vs. slice indexing \n",
    "* Array indexing \n",
    "* Boolean indexing "
   ]
  },
  {
   "cell_type": "markdown",
   "metadata": {},
   "source": [
    "Algunos *shortcuts* útiles:\n",
    "* tab --> ofrece sugerencias sobre funciones y atributos \n",
    "* shift + tab --> muestra la documentación\n",
    "* shift + enter --> run cell"
   ]
  },
  {
   "cell_type": "markdown",
   "metadata": {},
   "source": [
    "Documentación de numpy: https://docs.scipy.org/doc/numpy/reference/"
   ]
  },
  {
   "cell_type": "code",
   "execution_count": 2,
   "metadata": {},
   "outputs": [],
   "source": [
    "import numpy as np"
   ]
  },
  {
   "cell_type": "markdown",
   "metadata": {},
   "source": [
    "Es importante conocer cómo funciona la indexación en NumPy, para obtener y/o reassignar valores de los elementos de los arrays"
   ]
  },
  {
   "cell_type": "markdown",
   "metadata": {},
   "source": [
    "-----"
   ]
  },
  {
   "cell_type": "markdown",
   "metadata": {},
   "source": [
    "## Slice indexing"
   ]
  },
  {
   "cell_type": "code",
   "execution_count": 3,
   "metadata": {},
   "outputs": [
    {
     "name": "stdout",
     "output_type": "stream",
     "text": [
      "[[11 12 13 14]\n",
      " [21 22 23 24]\n",
      " [31 32 33 34]\n",
      " [41 42 43 44]]\n"
     ]
    }
   ],
   "source": [
    "# Para el ejemplo, creamos una matriz de 4x4\n",
    "my_array = np.array([[11,12,13,14],\n",
    "                     [21,22,23,24],\n",
    "                     [31,32,33,34],\n",
    "                     [41,42,43,44]])\n",
    "print(my_array)      "
   ]
  },
  {
   "cell_type": "markdown",
   "metadata": {},
   "source": [
    "Usamos *slice indexing* para obtener diferentes subregiones..."
   ]
  },
  {
   "cell_type": "code",
   "execution_count": 4,
   "metadata": {},
   "outputs": [
    {
     "name": "stdout",
     "output_type": "stream",
     "text": [
      "[[32 33 34]\n",
      " [42 43 44]] \n",
      "\n",
      "[[12 13]\n",
      " [22 23]\n",
      " [32 33]\n",
      " [42 43]] \n",
      "\n"
     ]
    }
   ],
   "source": [
    "my_array = np.array([[11,12,13,14],\n",
    "                     [21,22,23,24],\n",
    "                     [31,32,33,34],\n",
    "                     [41,42,43,44]])\n",
    "\n",
    "# Creamos una subregión con todos los renglones a partir del tercero y todas las columnas antes del segundo y todas las columnas a partir de la segunda\n",
    "slice01 = my_array[2:, 1:]\n",
    "print(slice01, '\\n')\n",
    "\n",
    "# Creamos una subregión con todos los renglones y las columnas 2 y 3\n",
    "slice02 = my_array[:, 1:3]\n",
    "print(slice02, '\\n')"
   ]
  },
  {
   "cell_type": "markdown",
   "metadata": {},
   "source": [
    "Es importante tener presente que, cuando trabajamos con subregiones con este método, no se crea un nuevo array. Lo que ocurre es que se crea una nueva referencia a los elementos seleccionados del array original. Por eso, cuando modificamos un elemento de una subregión, en realidad lo que se está haciendo es modificar el elemento del array original al que se hace referencia"
   ]
  },
  {
   "cell_type": "code",
   "execution_count": 5,
   "metadata": {},
   "outputs": [
    {
     "name": "stdout",
     "output_type": "stream",
     "text": [
      "my_array (antes):\n",
      " [[11 12 13 14]\n",
      " [21 22 23 24]\n",
      " [31 32 33 34]\n",
      " [41 42 43 44]] \n",
      "\n",
      "slice04 (antes):\n",
      " [[31 32 33 34]\n",
      " [41 42 43 44]] \n",
      "\n",
      "my_array (después 1):\n",
      " [[11 12 13 14]\n",
      " [21 22 23 24]\n",
      " [31 32 33 34]\n",
      " [41 -1 43 44]] \n",
      "\n",
      "slice04 (después 1):\n",
      " [[31 32 33 34]\n",
      " [41 -1 43 44]] \n",
      "\n",
      "my_array (después 2):\n",
      " [[11 12 13 14]\n",
      " [21 22 23 24]\n",
      " [31 32 -9 -9]\n",
      " [41 -1 -9 -9]] \n",
      "\n",
      "slice04 (después 2):\n",
      " [[31 32 -9 -9]\n",
      " [41 -1 -9 -9]] \n",
      "\n"
     ]
    }
   ],
   "source": [
    "my_array = np.array([[11,12,13,14],\n",
    "                     [21,22,23,24],\n",
    "                     [31,32,33,34],\n",
    "                     [41,42,43,44]])\n",
    "\n",
    "# Creamos una subregión con todos los renglones a partir del 3ro (índice 2) y todas las columnas\n",
    "slice04 = my_array[2:, :]\n",
    "print('my_array (antes):\\n', my_array, '\\n')\n",
    "print('slice04 (antes):\\n', slice04, '\\n')\n",
    "\n",
    "# Veamos qué pasa si modificamos un elemento de slice04...\n",
    "slice04[1,1] = -1 # Nótese que slice04[1,1] apunta hacia el mismo lugar que my_array[3,1]\n",
    "print('my_array (después 1):\\n', my_array, '\\n')\n",
    "print('slice04 (después 1):\\n', slice04, '\\n')\n",
    "\n",
    "# También podemos modificar todos los elementos de una subregión...\n",
    "slice04[:, 2:] = -9\n",
    "print('my_array (después 2):\\n', my_array, '\\n')\n",
    "print('slice04 (después 2):\\n', slice04, '\\n')"
   ]
  },
  {
   "cell_type": "markdown",
   "metadata": {},
   "source": [
    "Si queremos crear una subregión cuyo comportamiento sea independiente del array original, necesitamos trabajar con una copia..."
   ]
  },
  {
   "cell_type": "code",
   "execution_count": 6,
   "metadata": {},
   "outputs": [
    {
     "name": "stdout",
     "output_type": "stream",
     "text": [
      "my_array (antes):\n",
      " [[11 12 13 14]\n",
      " [21 22 23 24]\n",
      " [31 32 33 34]\n",
      " [41 42 43 44]]\n",
      "\n",
      "slice05 (antes):\n",
      " [[31 32 33 34]\n",
      " [41 42 43 44]]\n",
      "\n",
      "my_array (después):\n",
      " [[11 12 13 14]\n",
      " [21 22 23 24]\n",
      " [31 32 33 34]\n",
      " [41 42 43 44]]\n",
      "\n",
      "slice05 (después):\n",
      " [[31 32 33 34]\n",
      " [41 42 43 -1]]\n"
     ]
    }
   ],
   "source": [
    "my_array = np.array([[11,12,13,14],\n",
    "                     [21,22,23,24],\n",
    "                     [31,32,33,34],\n",
    "                     [41,42,43,44]])\n",
    "\n",
    "# Creamos un nuevo array a partir de una copia de una subregión de my_array\n",
    "slice05 = np.array(my_array[2:, :])\n",
    "\n",
    "print('my_array (antes):\\n', my_array)\n",
    "print('\\nslice05 (antes):\\n', slice05)\n",
    "\n",
    "# Cambiamos el valor de un elemento de slice05 para ver qué ocurre con my_array (nada)\n",
    "slice05[1, 3] = -1\n",
    "\n",
    "print('\\nmy_array (después):\\n', my_array)\n",
    "print('\\nslice05 (después):\\n', slice05)"
   ]
  },
  {
   "cell_type": "markdown",
   "metadata": {},
   "source": [
    "Lo anterior también ocurre cuando queremos crear un nuevo array a partir de otro..."
   ]
  },
  {
   "cell_type": "code",
   "execution_count": 7,
   "metadata": {},
   "outputs": [
    {
     "name": "stdout",
     "output_type": "stream",
     "text": [
      "my_array (antes):\n",
      " [[11 12 13 14]\n",
      " [21 22 23 24]\n",
      " [31 32 33 34]\n",
      " [41 42 43 44]] \n",
      "\n",
      "\n",
      "my_array2 (antes):\n",
      " [[11 12 13 14]\n",
      " [21 22 23 24]\n",
      " [31 32 33 34]\n",
      " [41 42 43 44]] \n",
      "\n",
      "my_array (después):\n",
      " [[  11 1000   13   14]\n",
      " [  21 1000   23   24]\n",
      " [  31 1000   33   34]\n",
      " [  41 1000   43   44]] \n",
      "\n",
      "my_array2 (después):\n",
      " [[  11 1000   13   14]\n",
      " [  21 1000   23   24]\n",
      " [  31 1000   33   34]\n",
      " [  41 1000   43   44]] \n",
      "\n"
     ]
    }
   ],
   "source": [
    "my_array = np.array([[11,12,13,14],\n",
    "                     [21,22,23,24],\n",
    "                     [31,32,33,34],\n",
    "                     [41,42,43,44]])\n",
    "\n",
    "# Lo siguiente crea una nueva referenica (my_array2) que apunta a los mismos lugares que my_array\n",
    "my_array2 = my_array\n",
    "\n",
    "print('my_array (antes):\\n', my_array, '\\n')\n",
    "print('\\nmy_array2 (antes):\\n', my_array2, '\\n')\n",
    "\n",
    "# Modificamos todos los valores de una columna de my_array2\n",
    "my_array2[:,1] = 1000\n",
    "\n",
    "print('my_array (después):\\n', my_array, '\\n')\n",
    "print('my_array2 (después):\\n', my_array2, '\\n')"
   ]
  },
  {
   "cell_type": "markdown",
   "metadata": {},
   "source": [
    "Entonces, si queremos crear un NumPy array igual a otro, pero no queremos que haga referencia a los mismos objetos en memoria, es necesario crear una copia..."
   ]
  },
  {
   "cell_type": "code",
   "execution_count": 8,
   "metadata": {},
   "outputs": [
    {
     "name": "stdout",
     "output_type": "stream",
     "text": [
      "my_array (antes):\n",
      " [[11 12 13 14]\n",
      " [21 22 23 24]\n",
      " [31 32 33 34]\n",
      " [41 42 43 44]] \n",
      "\n",
      "my_array2 (antes):\n",
      " [[11 12 13 14]\n",
      " [21 22 23 24]\n",
      " [31 32 33 34]\n",
      " [41 42 43 44]] \n",
      "\n",
      "my_array (después):\n",
      " [[11 12 13 14]\n",
      " [21 22 23 24]\n",
      " [31 32 33 34]\n",
      " [41 42 43 44]] \n",
      "\n",
      "my_array2 (después):\n",
      " [[  11 1000   13   14]\n",
      " [  21 1000   23   24]\n",
      " [  31 1000   33   34]\n",
      " [  41 1000   43   44]] \n",
      "\n"
     ]
    }
   ],
   "source": [
    "my_array = np.array([[11,12,13,14],\n",
    "                     [21,22,23,24],\n",
    "                     [31,32,33,34],\n",
    "                     [41,42,43,44]])\n",
    "my_array2 = np.array(my_array)\n",
    "print('my_array (antes):\\n', my_array, '\\n')\n",
    "print('my_array2 (antes):\\n', my_array2, '\\n')\n",
    "\n",
    "# modificamos todos los valores de una columna de my_array2\n",
    "my_array2[:,1] = 1000\n",
    "\n",
    "print('my_array (después):\\n', my_array, '\\n')\n",
    "print('my_array2 (después):\\n', my_array2, '\\n')"
   ]
  },
  {
   "cell_type": "markdown",
   "metadata": {},
   "source": [
    "-------"
   ]
  },
  {
   "cell_type": "markdown",
   "metadata": {},
   "source": [
    "## Slice indexing vs. integer indexing"
   ]
  },
  {
   "cell_type": "code",
   "execution_count": 9,
   "metadata": {},
   "outputs": [
    {
     "name": "stdout",
     "output_type": "stream",
     "text": [
      "[[11 12 13 14]\n",
      " [21 22 23 24]\n",
      " [31 32 33 34]\n",
      " [41 42 43 44]] \n",
      "\n",
      "(4, 4)\n"
     ]
    }
   ],
   "source": [
    "# Nuevamente, trabajamos con la matriz de 4x4\n",
    "my_array = np.array([[11,12,13,14],\n",
    "                     [21,22,23,24],\n",
    "                     [31,32,33,34],\n",
    "                     [41,42,43,44]])\n",
    "\n",
    "# Sabemos que tiene una dimensión igual a 2 (rank 2)\n",
    "print(my_array, '\\n')\n",
    "print(my_array.shape)"
   ]
  },
  {
   "cell_type": "code",
   "execution_count": 10,
   "metadata": {},
   "outputs": [
    {
     "name": "stdout",
     "output_type": "stream",
     "text": [
      "[31 32 33 34]\n",
      "(4,)\n",
      "subreg01 tiene una dimensión (rank) =  1 \n",
      "\n"
     ]
    }
   ],
   "source": [
    "# Cuando incorporamos la indexación por enteros (integer indexing), el resultado es una subregión con menor dimensión\n",
    "subreg01 = my_array[2, :]\n",
    "\n",
    "print(subreg01) # Nótese cómo los corchetes exteriores desaparecen\n",
    "print(subreg01.shape)\n",
    "print('subreg01 tiene una dimensión (rank) = ', len(subreg01.shape) , '\\n')"
   ]
  },
  {
   "cell_type": "code",
   "execution_count": 11,
   "metadata": {},
   "outputs": [
    {
     "name": "stdout",
     "output_type": "stream",
     "text": [
      "[[31 32 33 34]]\n",
      "(1, 4)\n",
      "subreg02 tiene una dimensión (rank) =  2 \n",
      "\n"
     ]
    }
   ],
   "source": [
    "# En contraste, si sólo usáramos slice indexing, la subregión tendrá la misma dimensión que la matriz original\n",
    "subreg02 = my_array[2:3, :]\n",
    "print(subreg02)\n",
    "print(subreg02.shape)\n",
    "print('subreg02 tiene una dimensión (rank) = ', len(subreg02.shape) , '\\n')"
   ]
  },
  {
   "cell_type": "code",
   "execution_count": 12,
   "metadata": {},
   "outputs": [
    {
     "name": "stdout",
     "output_type": "stream",
     "text": [
      "[13 23 33 43]\n",
      "(4,)\n",
      "subreg03 tiene una dimensión (rank) =  1 \n",
      "\n",
      "[[13]\n",
      " [23]\n",
      " [33]\n",
      " [43]]\n",
      "(4, 1)\n",
      "subreg04 tiene una dimensión (rank) =  2\n"
     ]
    }
   ],
   "source": [
    "# Lo anterior se hizo para renglones, pero igualmente se puede hacer para columnas\n",
    "subreg03 = my_array[:, 2]\n",
    "print(subreg03)\n",
    "print(subreg03.shape)\n",
    "print('subreg03 tiene una dimensión (rank) = ', len(subreg03.shape), '\\n')\n",
    "\n",
    "subreg04 = my_array[:, 2:3]\n",
    "print(subreg04)\n",
    "print(subreg04.shape)\n",
    "print('subreg04 tiene una dimensión (rank) = ', len(subreg04.shape))\n"
   ]
  },
  {
   "cell_type": "markdown",
   "metadata": {},
   "source": [
    "----"
   ]
  },
  {
   "cell_type": "markdown",
   "metadata": {},
   "source": [
    "## Array indexing"
   ]
  },
  {
   "cell_type": "markdown",
   "metadata": {},
   "source": [
    "La indexación por arrays (array indexing) es útil cuando queremos obtener o cambiar los elementos de una matrix en posiciones específicas"
   ]
  },
  {
   "cell_type": "code",
   "execution_count": 13,
   "metadata": {},
   "outputs": [
    {
     "name": "stdout",
     "output_type": "stream",
     "text": [
      "my_array (antes):\n",
      " [[11 12 13 14]\n",
      " [21 22 23 24]\n",
      " [31 32 33 34]\n",
      " [41 42 43 44]] \n",
      "\n",
      "índices de los renglones: [0 2 3]\n",
      "índices de las columnas:  [0 3 2] \n",
      "\n",
      "El valor original en [0, 0] es 11\n",
      "El valor original en [2, 3] es 34\n",
      "El valor original en [3, 2] es 43\n",
      "\n",
      "my_array (después):\n",
      " [[-9 12 13 14]\n",
      " [21 22 23 24]\n",
      " [31 32 33 -9]\n",
      " [41 42 -9 44]]\n"
     ]
    }
   ],
   "source": [
    "# Creamos una matriz de 4x4\n",
    "my_array = np.array([[11,12,13,14],\n",
    "                     [21,22,23,24],\n",
    "                     [31,32,33,34],\n",
    "                     [41,42,43,44]])\n",
    "print('my_array (antes):\\n',my_array, '\\n')\n",
    "\n",
    "#Supongamos que nos interesa modificar los elementos [1, 1], [3, 4] y [2, 3], \n",
    "# es decir, los elementos cuyos índices son [0, 0], [2, 3] y [1, 2]\n",
    "\n",
    "# Creamos dos listas: una para los índices de los renglones y otra para los índices de las columnas\n",
    "inds_reng = np.array([0, 2, 3])\n",
    "inds_col = np.array([0, 3, 2])\n",
    "print('índices de los renglones:', inds_reng)\n",
    "print('índices de las columnas: ', inds_col, '\\n')\n",
    "\n",
    "print(f'El valor original en [{inds_reng[0]}, {inds_col[0]}] es {my_array[inds_reng[0], inds_col[0]]}')\n",
    "print(f'El valor original en [{inds_reng[1]}, {inds_col[1]}] es {my_array[inds_reng[1], inds_col[1]]}')\n",
    "print(f'El valor original en [{inds_reng[2]}, {inds_col[2]}] es {my_array[inds_reng[2], inds_col[2]]}')\n",
    "\n",
    "# Emplearemos los arrays de los índices para cambiar los valores\n",
    "my_array[inds_reng, inds_col] = -9\n",
    "print('\\nmy_array (después):\\n', my_array)"
   ]
  },
  {
   "cell_type": "markdown",
   "metadata": {},
   "source": [
    "-----"
   ]
  },
  {
   "cell_type": "markdown",
   "metadata": {},
   "source": [
    "## Boolean indexing\n",
    "\n",
    "La indexación booleana (boolean indexing) es útil cuando queremos obtener o cambiar elementos basándonos en su valor (en lugar de su posición)"
   ]
  },
  {
   "cell_type": "code",
   "execution_count": 14,
   "metadata": {},
   "outputs": [
    {
     "name": "stdout",
     "output_type": "stream",
     "text": [
      "my_array:\n",
      " [[ 1  2  3  4]\n",
      " [ 5  6  7  8]\n",
      " [ 9 10 11 12]\n",
      " [13 14 15 16]] \n",
      "\n",
      "Nuestro filtro:\n",
      " [[ True  True  True  True]\n",
      " [ True  True  True  True]\n",
      " [ True False False False]\n",
      " [False False False False]]\n",
      "\n",
      "Los valores filtrados (método 1): \n",
      " [1 2 3 4 5 6 7 8 9]\n",
      "\n",
      "Los valores filtrados (método 2): \n",
      " [1 2 3 4 5 6 7 8 9]\n"
     ]
    }
   ],
   "source": [
    "my_array = np.array([[ 1, 2, 3, 4],\n",
    "                     [ 5, 6, 7, 8],\n",
    "                     [ 9,10,11,12],\n",
    "                     [13,14,15,16]])\n",
    "print('my_array:\\n', my_array, '\\n')\n",
    "\n",
    "# Creamos un filtro para obtener los elementos que cumplan con ciertas condiciones\n",
    "# Con este método, se crea un array booleano de las mismas dimensiones que el original\n",
    "# Los valores que cumplan con la condición serán True (y los que no, False)\n",
    "filter = (my_array < 10)\n",
    "print('Nuestro filtro:\\n', filter)\n",
    "\n",
    "# ... y aplicamos el filtro a la matriz\n",
    "print('\\nLos valores filtrados (método 1): \\n', my_array[filter])\n",
    "\n",
    "# otra manera de aplicar el filtro sería hacerlo directamente\n",
    "print('\\nLos valores filtrados (método 2): \\n', my_array[(my_array<10)])\n"
   ]
  },
  {
   "cell_type": "code",
   "execution_count": 15,
   "metadata": {},
   "outputs": [
    {
     "name": "stdout",
     "output_type": "stream",
     "text": [
      "my_array (antes):\n",
      " [[ 1  2  3  4]\n",
      " [ 5  6  7  8]\n",
      " [ 9 10 11 12]\n",
      " [13 14 15 16]] \n",
      "\n",
      "my_array (después):\n",
      " [[ 1  2  3  4]\n",
      " [ 5  6  7  8]\n",
      " [ 9 10  0  0]\n",
      " [ 0  0  0  0]] \n",
      "\n"
     ]
    }
   ],
   "source": [
    "my_array = np.array([[ 1, 2, 3, 4],\n",
    "                     [ 5, 6, 7, 8],\n",
    "                     [ 9,10,11,12],\n",
    "                     [13,14,15,16]])\n",
    "print('my_array (antes):\\n', my_array, '\\n')\n",
    "\n",
    "# Podemos usar los filtros para cambiar los valores de la matriz\n",
    "# se les asigne un cero\n",
    "my_array[my_array >10] = 0\n",
    "print('my_array (después):\\n', my_array, '\\n')"
   ]
  },
  {
   "cell_type": "code",
   "execution_count": 16,
   "metadata": {},
   "outputs": [
    {
     "name": "stdout",
     "output_type": "stream",
     "text": [
      "my_array (antes):\n",
      " [[ 1  2  3  4]\n",
      " [ 5  6  7  8]\n",
      " [ 9 10 11 12]\n",
      " [13 14 15 16]] \n",
      "\n",
      "my_array (después):\n",
      " [[-9  2  3  4]\n",
      " [ 5  6  7  8]\n",
      " [ 9 10 11 -9]\n",
      " [-9 -9 -9 -9]] \n",
      "\n"
     ]
    }
   ],
   "source": [
    "# También podemos usar múltiples condiciones en el filtro (por claridad, conviene usar paréntesis entre cada una)\n",
    "my_array = np.array([[ 1, 2, 3, 4],\n",
    "                     [ 5, 6, 7, 8],\n",
    "                     [ 9,10,11,12],\n",
    "                     [13,14,15,16]])\n",
    "print('my_array (antes):\\n', my_array, '\\n')\n",
    "\n",
    "# Filtramos todos los elementos que o son iguales a 1 o son mayores a 11\n",
    "filter = (my_array == 1) | (my_array>11)\n",
    "\n",
    "# A los valores que cumplan con la condición les asignamos un -9\n",
    "my_array[filter] = -9\n",
    "\n",
    "print('my_array (después):\\n', my_array, '\\n')"
   ]
  },
  {
   "cell_type": "code",
   "execution_count": 17,
   "metadata": {},
   "outputs": [
    {
     "name": "stdout",
     "output_type": "stream",
     "text": [
      "my_array (antes):\n",
      " [[ 1  2  3  4]\n",
      " [ 5  6  7  8]\n",
      " [ 9 10 11 12]\n",
      " [13 14 15 16]] \n",
      "\n",
      "my_array (después):\n",
      " [[ 1  2  3  4]\n",
      " [ 5 -9 -9 -9]\n",
      " [-9 -9 11 12]\n",
      " [13 14 15 16]] \n",
      "\n"
     ]
    }
   ],
   "source": [
    "# Un ejemplo más con múltiples condiciones...\n",
    "# También podemos usar múltiples condiciones en el filtro (para hacerlo, hay que usar paréntesis entre cada una)\n",
    "my_array = np.array([[ 1, 2, 3, 4],\n",
    "                     [ 5, 6, 7, 8],\n",
    "                     [ 9,10,11,12],\n",
    "                     [13,14,15,16]])\n",
    "print('my_array (antes):\\n', my_array, '\\n')\n",
    "\n",
    "# Filtramos todos los elementos que son mayores que 5 y menores que 11\n",
    "filter = (my_array < 11) & (my_array>5)\n",
    "\n",
    "# A los valores que cumplan con la condición les asignamos un -9\n",
    "my_array[filter] = -9\n",
    "\n",
    "print('my_array (después):\\n', my_array, '\\n')"
   ]
  }
 ],
 "metadata": {
  "kernelspec": {
   "display_name": "Python 3",
   "language": "python",
   "name": "python3"
  },
  "language_info": {
   "codemirror_mode": {
    "name": "ipython",
    "version": 3
   },
   "file_extension": ".py",
   "mimetype": "text/x-python",
   "name": "python",
   "nbconvert_exporter": "python",
   "pygments_lexer": "ipython3",
   "version": "3.7.2"
  }
 },
 "nbformat": 4,
 "nbformat_minor": 2
}
