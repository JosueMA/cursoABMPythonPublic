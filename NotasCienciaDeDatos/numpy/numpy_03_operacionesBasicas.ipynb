{
 "cells": [
  {
   "cell_type": "markdown",
   "metadata": {},
   "source": [
    "# Operaciones básicas y tipos de datos en numpy\n",
    "\n",
    "#### Este archivo contiene los siguientes temas:\n",
    "* Tipo de datos en numpy\n",
    "* Operaciones báscias (aritméticas y estadísticas)\n",
    "* Cómo ordenar los elementos de un ndarray\n",
    "* Operaciones de conjuntos en numpy\n",
    "* Broadcasting"
   ]
  },
  {
   "cell_type": "markdown",
   "metadata": {},
   "source": [
    "Algunos *shortcuts* útiles:\n",
    "* tab --> ofrece sugerencias sobre funciones y atributos \n",
    "* shift + tab --> muestra la documentación \n",
    "* shift + enter --> run cell"
   ]
  },
  {
   "cell_type": "markdown",
   "metadata": {},
   "source": [
    "Documentación de numpy: https://docs.scipy.org/doc/numpy/reference/"
   ]
  },
  {
   "cell_type": "code",
   "execution_count": 1,
   "metadata": {},
   "outputs": [],
   "source": [
    "import numpy as np"
   ]
  },
  {
   "cell_type": "markdown",
   "metadata": {},
   "source": [
    "------"
   ]
  },
  {
   "cell_type": "markdown",
   "metadata": {},
   "source": [
    "## Tipo de datos en NumPy"
   ]
  },
  {
   "cell_type": "code",
   "execution_count": 2,
   "metadata": {},
   "outputs": [
    {
     "name": "stdout",
     "output_type": "stream",
     "text": [
      "[1 2 3]       int64\n",
      "[1. 2. 3.]    float64\n"
     ]
    }
   ],
   "source": [
    "# Cuando creamos un array sin especificar un tipo de dato específico, numpy lo asigna automáticamente\n",
    "arr01 = np.array([1,2,3])\n",
    "arr02 = np.array([1.0, 2.0, 3.0])\n",
    "\n",
    "# numpy tiene métodos para saber tipo de datos de un array\n",
    "print(arr01, '     ', arr01.dtype)\n",
    "print(arr02, '  ', arr02.dtype)"
   ]
  },
  {
   "cell_type": "code",
   "execution_count": 3,
   "metadata": {},
   "outputs": [
    {
     "name": "stdout",
     "output_type": "stream",
     "text": [
      "[1. 2. 3.]    float16\n"
     ]
    }
   ],
   "source": [
    "# También podemos explicitar (o forzar) el tipo de dato que queremos que nuestro array tenga\n",
    "arr03 = np.array([1, 2, 3], dtype=np.float16)\n",
    "print(arr03, '  ', arr03.dtype)"
   ]
  },
  {
   "cell_type": "markdown",
   "metadata": {},
   "source": [
    "Para ver la diferencia entre un int «normal» en python y un int de numpy:\n",
    "https://stackoverflow.com/questions/38155039/what-is-the-difference-between-native-int-type-and-the-numpy-int-types"
   ]
  },
  {
   "cell_type": "markdown",
   "metadata": {},
   "source": [
    "----"
   ]
  },
  {
   "cell_type": "markdown",
   "metadata": {},
   "source": [
    "## Operaciones báscias (aritméticas y estadísticas)"
   ]
  },
  {
   "cell_type": "code",
   "execution_count": 4,
   "metadata": {},
   "outputs": [
    {
     "name": "stdout",
     "output_type": "stream",
     "text": [
      "[[100 200]\n",
      " [300 400]] int64 \n",
      "\n",
      "[[100.5 200.5]\n",
      " [300.5 400.5]] float64 \n",
      "\n"
     ]
    }
   ],
   "source": [
    "a = np.array([[100, 200], [300, 400]])\n",
    "\n",
    "b = np.array([[100.5, 200.5], [300.5, 400.5]])\n",
    "\n",
    "print(a, a.dtype, '\\n')\n",
    "print(b, b.dtype, '\\n')"
   ]
  },
  {
   "cell_type": "markdown",
   "metadata": {},
   "source": [
    "Para efectuar operaciones básicas entre arrays de numpy podemos usar los operadores de python o las funciones y métodos de numpy"
   ]
  },
  {
   "cell_type": "code",
   "execution_count": 5,
   "metadata": {},
   "outputs": [
    {
     "name": "stdout",
     "output_type": "stream",
     "text": [
      "[[200.5 400.5]\n",
      " [600.5 800.5]]    float64 \n",
      "\n",
      "[[200.5 400.5]\n",
      " [600.5 800.5]]    float64 \n",
      "\n"
     ]
    }
   ],
   "source": [
    "# Dos maneras de sumar arrays\n",
    "print(a + b, '  ', (a+b).dtype, '\\n')\n",
    "print(np.add(a, b), '  ', (np.add(a,b)).dtype, '\\n')"
   ]
  },
  {
   "cell_type": "code",
   "execution_count": 6,
   "metadata": {},
   "outputs": [
    {
     "name": "stdout",
     "output_type": "stream",
     "text": [
      "[[-0.5 -0.5]\n",
      " [-0.5 -0.5]] \n",
      "\n",
      "[[-0.5 -0.5]\n",
      " [-0.5 -0.5]]\n"
     ]
    }
   ],
   "source": [
    "# Substracción (resta) de arrays\n",
    "print(a - b, '\\n')\n",
    "print(np.subtract(a,b))"
   ]
  },
  {
   "cell_type": "code",
   "execution_count": 7,
   "metadata": {},
   "outputs": [
    {
     "name": "stdout",
     "output_type": "stream",
     "text": [
      "[[ 10050.  40100.]\n",
      " [ 90150. 160200.]] \n",
      "\n",
      "[[ 10050.  40100.]\n",
      " [ 90150. 160200.]]\n"
     ]
    }
   ],
   "source": [
    "# Multiplicación de arrays\n",
    "print(a * b, '\\n')\n",
    "print(np.multiply(a,b))"
   ]
  },
  {
   "cell_type": "code",
   "execution_count": 8,
   "metadata": {},
   "outputs": [
    {
     "name": "stdout",
     "output_type": "stream",
     "text": [
      "[[0.99502488 0.99750623]\n",
      " [0.99833611 0.99875156]] \n",
      "\n",
      "[[0.99502488 0.99750623]\n",
      " [0.99833611 0.99875156]]\n"
     ]
    }
   ],
   "source": [
    "# División de arrays\n",
    "print(a/b, '\\n')\n",
    "print(np.divide(a,b))"
   ]
  },
  {
   "cell_type": "code",
   "execution_count": 9,
   "metadata": {},
   "outputs": [
    {
     "name": "stdout",
     "output_type": "stream",
     "text": [
      "[[10.         14.14213562]\n",
      " [17.32050808 20.        ]]\n"
     ]
    }
   ],
   "source": [
    "# Raíz cuadrada\n",
    "print(np.sqrt(a))"
   ]
  },
  {
   "cell_type": "code",
   "execution_count": 10,
   "metadata": {},
   "outputs": [
    {
     "name": "stdout",
     "output_type": "stream",
     "text": [
      "[[2.68811714e+043 7.22597377e+086]\n",
      " [1.94242640e+130 5.22146969e+173]]\n"
     ]
    }
   ],
   "source": [
    "# Exponencial\n",
    "print(np.exp(a))"
   ]
  },
  {
   "cell_type": "markdown",
   "metadata": {},
   "source": [
    "#### Un par de ejemplos para aplicar operaciones estadísticas"
   ]
  },
  {
   "cell_type": "code",
   "execution_count": 11,
   "metadata": {},
   "outputs": [
    {
     "name": "stdout",
     "output_type": "stream",
     "text": [
      "[[24.8 27.9 25.  29.3 25.2 26.1 23.2 26.1 26.  27.2 26.  29.6]\n",
      " [24.  23.6 24.8 20.8 21.6 24.3 25.1 25.2 26.9 28.2 26.1 29.4]\n",
      " [26.  29.3 20.3 20.9 24.8 22.4 26.5 26.  20.8 22.5 20.4 26.8]\n",
      " [21.7 21.6 21.6 27.  29.7 20.4 21.7 20.2 20.8 28.1 27.7 22.9]\n",
      " [23.8 22.4 20.5 27.6 25.4 28.1 23.8 26.4 20.3 27.4 21.5 25.2]\n",
      " [23.8 25.3 27.9 21.  22.8 24.3 20.8 21.5 21.  29.1 24.  29.8]\n",
      " [26.7 29.  27.8 28.8 28.9 27.3 26.1 25.5 21.4 24.7 22.8 25.2]\n",
      " [27.  29.7 24.  29.1 27.8 21.6 24.4 23.6 22.3 23.  29.  29.7]\n",
      " [29.2 29.9 21.9 20.3 20.9 22.1 23.5 26.3 29.7 26.2 23.4 24.5]\n",
      " [24.5 28.6 26.9 26.9 27.3 21.3 21.6 22.9 29.9 24.1 20.8 28.6]]\n"
     ]
    }
   ],
   "source": [
    "# Creamos un array de 10x12, cuyos elementos se distribuyen uniformemente entre 20 y 30\n",
    "my_array = (np.random.rand(10,12) * 10) + 20\n",
    "\n",
    "# Imprimimos usando una función que redondea los valores (para una visualización más clara)\n",
    "# Esto no modifica los valores (para ello, tendríamos que reasignar el array)\n",
    "print(np.around(my_array, 1)) "
   ]
  },
  {
   "cell_type": "code",
   "execution_count": 12,
   "metadata": {},
   "outputs": [
    {
     "name": "stdout",
     "output_type": "stream",
     "text": [
      "24.974805912854496\n"
     ]
    }
   ],
   "source": [
    "# Computamos la media de todos los elementos en el array\n",
    "print(my_array.mean())"
   ]
  },
  {
   "cell_type": "code",
   "execution_count": 13,
   "metadata": {},
   "outputs": [
    {
     "name": "stdout",
     "output_type": "stream",
     "text": [
      "[26.36609137 25.01000886 23.8936865  23.6089485  24.36313733 24.28112926\n",
      " 26.19796656 25.93495057 24.82645292 25.26568726] \n",
      "\n",
      "shape:  (10,)\n"
     ]
    }
   ],
   "source": [
    "# Computamos la media para cada renglón (en numpy, el 'eje' de las X es 1, y el de las Y es 0)\n",
    "print(my_array.mean(axis = 1), '\\n')\n",
    "print('shape: ', my_array.mean(axis = 1).shape)"
   ]
  },
  {
   "cell_type": "code",
   "execution_count": 14,
   "metadata": {},
   "outputs": [
    {
     "name": "stdout",
     "output_type": "stream",
     "text": [
      "[25.13994543 26.73038825 24.06847781 25.16142765 25.44667179 23.79589104\n",
      " 23.66897322 24.37654301 23.90978135 26.04988036 24.17043913 27.1792519 ] \n",
      "\n",
      "shape:  (12,)\n"
     ]
    }
   ],
   "source": [
    "# Obtenemos la media para cada columna\n",
    "print(my_array.mean(axis=0), '\\n')\n",
    "print('shape: ', my_array.mean(axis = 0).shape)"
   ]
  },
  {
   "cell_type": "code",
   "execution_count": 15,
   "metadata": {},
   "outputs": [
    {
     "name": "stdout",
     "output_type": "stream",
     "text": [
      "2996.9767095425395\n"
     ]
    }
   ],
   "source": [
    "# sumar todos los elementos del array\n",
    "print(my_array.sum())"
   ]
  },
  {
   "cell_type": "markdown",
   "metadata": {},
   "source": [
    "## Cómo ordenar los elementos de un array"
   ]
  },
  {
   "cell_type": "code",
   "execution_count": 16,
   "metadata": {},
   "outputs": [
    {
     "data": {
      "text/plain": [
       "array([ 9,  1, 14,  5,  1,  6, 19,  9, 13,  7, 12, 18, 10, 10,  9, 15, 13,\n",
       "        8,  1, 16, 12, 13, 20,  2,  3, 11,  3, 12,  3, 14,  9, 15, 11,  4,\n",
       "        6, 18, 10,  4,  5,  5,  1, 12,  4,  4,  4, 11, 10,  9,  4,  4, 16,\n",
       "        8,  7, 13,  4,  4, 14,  8, 11,  2,  5, 12,  1,  0,  8,  4,  3,  6,\n",
       "        2,  3, 15, 15, 15,  3, 10,  9,  6,  4, 17,  1,  5,  5, 19,  2, 13,\n",
       "        7, 19,  2,  5,  2, 16,  3,  9,  8,  4,  8,  2, 12,  4, 13],\n",
       "      dtype=int16)"
      ]
     },
     "execution_count": 16,
     "metadata": {},
     "output_type": "execute_result"
    }
   ],
   "source": [
    "# Creamos un array de una dimensión (rank 1) con 100 elementos generados a partir de una distribución uniforme entre 0 y 20\n",
    "# Además, aplicamos la función floor para eliminar los decimales, y convertimos el tipo de dato de los elementos del array a int16\n",
    "arr04 = np.round(np.random.rand(100) * 20).astype('int16')\n",
    "\n",
    "arr04"
   ]
  },
  {
   "cell_type": "code",
   "execution_count": 17,
   "metadata": {},
   "outputs": [
    {
     "name": "stdout",
     "output_type": "stream",
     "text": [
      "[ 0  1  1  1  1  1  1  2  2  2  2  2  2  2  3  3  3  3  3  3  3  4  4  4\n",
      "  4  4  4  4  4  4  4  4  4  4  5  5  5  5  5  5  5  6  6  6  6  7  7  7\n",
      "  8  8  8  8  8  8  9  9  9  9  9  9  9 10 10 10 10 10 11 11 11 11 12 12\n",
      " 12 12 12 12 13 13 13 13 13 13 14 14 14 15 15 15 15 15 16 16 16 17 18 18\n",
      " 19 19 19 20]\n"
     ]
    }
   ],
   "source": [
    "# Para ordenar los elementos del array:\n",
    "arr04.sort()\n",
    "print(arr04)"
   ]
  },
  {
   "cell_type": "code",
   "execution_count": 18,
   "metadata": {},
   "outputs": [
    {
     "name": "stdout",
     "output_type": "stream",
     "text": [
      "[ 0  1  2  3  4  5  6  7  8  9 10 11 12 13 14 15 16 17 18 19 20]\n"
     ]
    }
   ],
   "source": [
    "# Quizás nos interese saber cuáles son los valores únicos en nuestro array\n",
    "print(np.unique(arr04))"
   ]
  },
  {
   "cell_type": "markdown",
   "metadata": {},
   "source": [
    "## Operaciones de conjuntos en numpy"
   ]
  },
  {
   "cell_type": "code",
   "execution_count": 19,
   "metadata": {},
   "outputs": [
    {
     "name": "stdout",
     "output_type": "stream",
     "text": [
      "[[1 2 3]\n",
      " [4 5 6]] \n",
      "\n",
      "[[4 5 6]\n",
      " [7 8 9]]\n"
     ]
    }
   ],
   "source": [
    "x = np.array([[1, 2, 3], [4, 5, 6]])\n",
    "y = np.array([[4, 5, 6], [7, 8, 9]])\n",
    "\n",
    "print(x, '\\n')\n",
    "print(y)"
   ]
  },
  {
   "cell_type": "code",
   "execution_count": 20,
   "metadata": {},
   "outputs": [
    {
     "name": "stdout",
     "output_type": "stream",
     "text": [
      "[4 5 6]\n"
     ]
    }
   ],
   "source": [
    "# Intersección (nótese que el resultado es un array de una dimensión (rank 1))\n",
    "print(np.intersect1d(x, y))"
   ]
  },
  {
   "cell_type": "code",
   "execution_count": 21,
   "metadata": {},
   "outputs": [
    {
     "name": "stdout",
     "output_type": "stream",
     "text": [
      "[1 2 3 4 5 6 7 8 9]\n"
     ]
    }
   ],
   "source": [
    "# Unión\n",
    "print(np.union1d(x, y))"
   ]
  },
  {
   "cell_type": "code",
   "execution_count": 22,
   "metadata": {},
   "outputs": [
    {
     "name": "stdout",
     "output_type": "stream",
     "text": [
      "[1 2 3]\n"
     ]
    }
   ],
   "source": [
    "# Conjunto de elementos que están en x pero no están en y\n",
    "print(np.setdiff1d(x, y))"
   ]
  },
  {
   "cell_type": "markdown",
   "metadata": {},
   "source": [
    "-----"
   ]
  },
  {
   "cell_type": "markdown",
   "metadata": {},
   "source": [
    "## Broadcasting\n",
    "\n",
    "Para mayor información: https://docs.scipy.org/doc/numpy-1.15.0/user/basics.broadcasting.html"
   ]
  },
  {
   "cell_type": "code",
   "execution_count": 23,
   "metadata": {},
   "outputs": [
    {
     "name": "stdout",
     "output_type": "stream",
     "text": [
      "arr01:\n",
      "[[1 1 1]\n",
      " [1 1 1]\n",
      " [1 1 1]\n",
      " [1 1 1]] \n",
      "\n",
      "arr02:\n",
      "[1 2 3] \n",
      "\n",
      "arr03:\n",
      "[[1 2 3]] \n",
      "\n",
      "arr04:\n",
      "[[1]\n",
      " [2]\n",
      " [3]\n",
      " [4]] \n",
      "\n"
     ]
    }
   ],
   "source": [
    "# Creamos un array de 3x4 cuyos elementos son todos 1\n",
    "arr01 = np.ones((4, 3), dtype='int16')\n",
    "# Creamos un array de una dimensión\n",
    "arr02 = np.array([1, 2, 3])\n",
    "# Creamos un array de 1x3\n",
    "arr03 = np.array([[1, 2, 3]])\n",
    "# Creamos un array de 4x1 (nótese cómo aplicamos 'T' para transponer)\n",
    "arr04 = np.array([[1,2,3,4]]).T\n",
    "print('arr01:'); print(arr01, '\\n')\n",
    "print('arr02:'); print(arr02, '\\n')\n",
    "print('arr03:'); print(arr03, '\\n')\n",
    "print('arr04:'); print(arr04, '\\n')"
   ]
  },
  {
   "cell_type": "code",
   "execution_count": 24,
   "metadata": {},
   "outputs": [
    {
     "data": {
      "text/plain": [
       "array([[2, 3, 4],\n",
       "       [2, 3, 4],\n",
       "       [2, 3, 4],\n",
       "       [2, 3, 4]])"
      ]
     },
     "execution_count": 24,
     "metadata": {},
     "output_type": "execute_result"
    }
   ],
   "source": [
    "arr01 + arr02"
   ]
  },
  {
   "cell_type": "code",
   "execution_count": 25,
   "metadata": {},
   "outputs": [
    {
     "data": {
      "text/plain": [
       "array([[2, 3, 4],\n",
       "       [2, 3, 4],\n",
       "       [2, 3, 4],\n",
       "       [2, 3, 4]])"
      ]
     },
     "execution_count": 25,
     "metadata": {},
     "output_type": "execute_result"
    }
   ],
   "source": [
    "arr01 + arr03"
   ]
  },
  {
   "cell_type": "code",
   "execution_count": 26,
   "metadata": {},
   "outputs": [
    {
     "data": {
      "text/plain": [
       "array([[2, 2, 2],\n",
       "       [3, 3, 3],\n",
       "       [4, 4, 4],\n",
       "       [5, 5, 5]])"
      ]
     },
     "execution_count": 26,
     "metadata": {},
     "output_type": "execute_result"
    }
   ],
   "source": [
    "arr01 + arr04"
   ]
  },
  {
   "cell_type": "code",
   "execution_count": 27,
   "metadata": {},
   "outputs": [
    {
     "data": {
      "text/plain": [
       "array([[2, 3, 4],\n",
       "       [3, 4, 5],\n",
       "       [4, 5, 6],\n",
       "       [5, 6, 7]])"
      ]
     },
     "execution_count": 27,
     "metadata": {},
     "output_type": "execute_result"
    }
   ],
   "source": [
    "arr02 + arr04 "
   ]
  },
  {
   "cell_type": "code",
   "execution_count": 28,
   "metadata": {},
   "outputs": [
    {
     "data": {
      "text/plain": [
       "array([[1001, 1001, 1001],\n",
       "       [1001, 1001, 1001],\n",
       "       [1001, 1001, 1001],\n",
       "       [1001, 1001, 1001]], dtype=int16)"
      ]
     },
     "execution_count": 28,
     "metadata": {},
     "output_type": "execute_result"
    }
   ],
   "source": [
    "arr01 + 1000"
   ]
  }
 ],
 "metadata": {
  "kernelspec": {
   "display_name": "Python 3",
   "language": "python",
   "name": "python3"
  },
  "language_info": {
   "codemirror_mode": {
    "name": "ipython",
    "version": 3
   },
   "file_extension": ".py",
   "mimetype": "text/x-python",
   "name": "python",
   "nbconvert_exporter": "python",
   "pygments_lexer": "ipython3",
   "version": "3.7.2"
  }
 },
 "nbformat": 4,
 "nbformat_minor": 2
}
