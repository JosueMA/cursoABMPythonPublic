{
 "cells": [
  {
   "cell_type": "markdown",
   "metadata": {},
   "source": [
    "# ndarrays en numpy"
   ]
  },
  {
   "cell_type": "markdown",
   "metadata": {},
   "source": [
    "Este archivo contiene los siguientes temas: \n",
    "* Crear un ndarray de una dimensión (rank 1) \n",
    "* Crear un ndarray de dos dimensiones (rank 2)\n",
    "* Otras manera de crear arrays en NumPy "
   ]
  },
  {
   "cell_type": "markdown",
   "metadata": {},
   "source": [
    "Algunos *shortcuts* útiles:\n",
    "* tab --> ofrece sugerencias sobre funciones y atributos \n",
    "* shift + tab --> muestra la documentación  \n",
    "* shift + enter --> run cell"
   ]
  },
  {
   "cell_type": "markdown",
   "metadata": {},
   "source": [
    "Documentación de numpy: https://docs.scipy.org/doc/numpy/reference/"
   ]
  },
  {
   "cell_type": "code",
   "execution_count": 1,
   "metadata": {},
   "outputs": [],
   "source": [
    "# Para trabajar con cualquiera de los objetos y funciones de numpy es necesario primero importar la libreria\n",
    "# Por comodidad (y convención), lo renompramos como numpy\n",
    "import numpy as np"
   ]
  },
  {
   "cell_type": "markdown",
   "metadata": {},
   "source": [
    "-----"
   ]
  },
  {
   "cell_type": "markdown",
   "metadata": {},
   "source": [
    "## Crear un ndarray de una dimensión (rank 1)"
   ]
  },
  {
   "cell_type": "code",
   "execution_count": 2,
   "metadata": {},
   "outputs": [
    {
     "name": "stdout",
     "output_type": "stream",
     "text": [
      "[1 2 3 4 5]\n",
      "\n",
      "Tipo del objeto:  <class 'numpy.ndarray'>\n",
      "\n",
      "Forma (shape): (5,)\n"
     ]
    }
   ],
   "source": [
    "my_array = np.array([1,2,3,4,5])\n",
    "print(my_array)\n",
    "print('\\nTipo del objeto: ', type(my_array))\n",
    "print('\\nForma (shape):', my_array.shape)"
   ]
  },
  {
   "cell_type": "code",
   "execution_count": 3,
   "metadata": {},
   "outputs": [
    {
     "name": "stdout",
     "output_type": "stream",
     "text": [
      "1\n",
      "2\n",
      "3\n"
     ]
    }
   ],
   "source": [
    "# Como se trata de un array de una dimensión (rank 1), sólo necesitamos un índice para acceder a sus elementos\n",
    "# Los índices en numpy comienzan en 0\n",
    "print(my_array[0])\n",
    "print(my_array[1])\n",
    "print(my_array[2])"
   ]
  },
  {
   "cell_type": "code",
   "execution_count": 4,
   "metadata": {},
   "outputs": [
    {
     "name": "stdout",
     "output_type": "stream",
     "text": [
      "[   1    2    3 1000    5]\n"
     ]
    }
   ],
   "source": [
    "# Podemos cambiar el valor de los elementos de los arrays\n",
    "my_array[3] = 1000\n",
    "print(my_array)"
   ]
  },
  {
   "cell_type": "markdown",
   "metadata": {},
   "source": [
    "-----"
   ]
  },
  {
   "cell_type": "markdown",
   "metadata": {},
   "source": [
    "## Crear un ndarray de dos dimensiones (rank 2)\n",
    "\n",
    "\n",
    "Un array de dos dimensiones es útil para representar matrices. Para crear una \"matriz\", se debe seguir el formato:  [ [renglón1] , [renglón2], ... ]"
   ]
  },
  {
   "cell_type": "code",
   "execution_count": 5,
   "metadata": {},
   "outputs": [
    {
     "name": "stdout",
     "output_type": "stream",
     "text": [
      "[[11 12 13]\n",
      " [21 22 23]\n",
      " [31 32 33]\n",
      " [41 42 43]]\n",
      "\n",
      "Tipo de objeto: <class 'numpy.ndarray'>\n",
      "\n",
      "Forma del array: (4, 3)\n",
      "\n",
      "El array tiene 4 renglones y 3 columnas\n",
      "\n",
      "Valor del elemento en [1,1]: 11        \n",
      "Valor del elemento en [2,3]: 23        \n",
      "Valor del elemento en [4,3]: 43\n"
     ]
    }
   ],
   "source": [
    "matrix = np.array([[11, 12, 13], \n",
    "                   [21, 22, 23], \n",
    "                   [31, 32, 33], \n",
    "                   [41, 42, 43]])\n",
    "print(matrix)\n",
    "print('\\nTipo de objeto:', type(matrix))\n",
    "print('\\nForma del array:', matrix.shape)\n",
    "\n",
    "# Usemos una manera alterna para imprimir en la consola:\n",
    "print(f'\\nEl array tiene {matrix.shape[0]} renglones y {matrix.shape[1]} columnas')\n",
    "\n",
    "# [renglón, columna] --> formato para acceder a elementos específicos de un array de dos dimensiones\n",
    "# OJO: Recordar que los ínidces comienzan en 0 \n",
    "print(f'\\nValor del elemento en [1,1]: {matrix[0,0]} \\\n",
    "       \\nValor del elemento en [2,3]: {matrix[1,2]} \\\n",
    "       \\nValor del elemento en [4,3]: {matrix[3,2]}')"
   ]
  },
  {
   "cell_type": "markdown",
   "metadata": {},
   "source": [
    "-------"
   ]
  },
  {
   "cell_type": "markdown",
   "metadata": {},
   "source": [
    "## Otras maneras de crear arrays en NumPy"
   ]
  },
  {
   "cell_type": "code",
   "execution_count": 6,
   "metadata": {},
   "outputs": [
    {
     "name": "stdout",
     "output_type": "stream",
     "text": [
      "[[0. 0. 0. 0.]\n",
      " [0. 0. 0. 0.]\n",
      " [0. 0. 0. 0.]]\n"
     ]
    }
   ],
   "source": [
    "# Crear una matriz  de 3x4 (3 renglones y 4 columnas) cuyos valores son todos cero \n",
    "zero_matrix = np.zeros((3,4))\n",
    "print(zero_matrix)"
   ]
  },
  {
   "cell_type": "code",
   "execution_count": 7,
   "metadata": {},
   "outputs": [
    {
     "name": "stdout",
     "output_type": "stream",
     "text": [
      "[[1. 1. 1. 1. 1.]\n",
      " [1. 1. 1. 1. 1.]\n",
      " [1. 1. 1. 1. 1.]\n",
      " [1. 1. 1. 1. 1.]]\n"
     ]
    }
   ],
   "source": [
    "# Crear una matriz de 4x5 (4 renglones y 5 columnas) cuyos valores son todos unos\n",
    "ones_matrix = np.ones((4,5))\n",
    "print(ones_matrix)"
   ]
  },
  {
   "cell_type": "code",
   "execution_count": 8,
   "metadata": {},
   "outputs": [
    {
     "name": "stdout",
     "output_type": "stream",
     "text": [
      "[[1. 0. 0.]\n",
      " [0. 1. 0.]\n",
      " [0. 0. 1.]]\n"
     ]
    }
   ],
   "source": [
    "# Crear una matriz identidad de 3x3\n",
    "id_matrix = np.eye(3, 3)\n",
    "print(id_matrix)"
   ]
  },
  {
   "cell_type": "code",
   "execution_count": 9,
   "metadata": {},
   "outputs": [
    {
     "name": "stdout",
     "output_type": "stream",
     "text": [
      "[[0.73125428 0.14113678 0.09227472]\n",
      " [0.57085112 0.17773604 0.44796836]\n",
      " [0.22304186 0.95748656 0.06753075]]\n"
     ]
    }
   ],
   "source": [
    "# Podemos utilizar el módulo random de numpy (numpy.random o, en nuestro caso, np.random) para crear matrices\n",
    "# Crear una matriz de 3x3 cuyos elementos se distribuyen uniformemente entre 0 y 1\n",
    "uniform_mat = np.random.random((3,3))\n",
    "print(uniform_mat)"
   ]
  },
  {
   "cell_type": "code",
   "execution_count": 10,
   "metadata": {},
   "outputs": [
    {
     "name": "stdout",
     "output_type": "stream",
     "text": [
      "[[ 0.10070256  1.13387068  0.20342587]\n",
      " [ 0.85875548  1.79128256 -0.45425458]\n",
      " [-1.87740575 -0.60635365 -0.67253848]]\n"
     ]
    }
   ],
   "source": [
    "# Crear una matriz de 3x3 cuyos elementos se generan a partir de una distribución normal estándar\n",
    "normal_mat = np.random.normal(0, 1, (3,3))\n",
    "print(normal_mat)"
   ]
  }
 ],
 "metadata": {
  "kernelspec": {
   "display_name": "Python 3",
   "language": "python",
   "name": "python3"
  },
  "language_info": {
   "codemirror_mode": {
    "name": "ipython",
    "version": 3
   },
   "file_extension": ".py",
   "mimetype": "text/x-python",
   "name": "python",
   "nbconvert_exporter": "python",
   "pygments_lexer": "ipython3",
   "version": "3.7.2"
  }
 },
 "nbformat": 4,
 "nbformat_minor": 2
}
