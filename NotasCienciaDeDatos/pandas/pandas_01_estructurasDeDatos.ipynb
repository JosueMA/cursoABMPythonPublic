{
 "cells": [
  {
   "cell_type": "markdown",
   "metadata": {},
   "source": [
    "# Estructuras de datos en pandas"
   ]
  },
  {
   "cell_type": "markdown",
   "metadata": {},
   "source": [
    "En este *notebook* exploraremos las dos principales estructuras de datos en *pandas*: *Series* y *DataFrames*"
   ]
  },
  {
   "cell_type": "markdown",
   "metadata": {},
   "source": [
    "Algunos *shortcuts* útiles:\n",
    "* tab --> ofrece sugerencias sobre funciones y atributos \n",
    "* shift + tab --> muestra la documentación \n",
    "* shift + enter --> run cell"
   ]
  },
  {
   "cell_type": "markdown",
   "metadata": {},
   "source": [
    "Documentación de *pandas*:  http://pandas.pydata.org/pandas-docs/stable/\n",
    "\n",
    "Para saber un poco más sobre la idea detrás de pandas: dlr.de/sc/Portaldata/15/Resources/dokumente/pyhpc2011/submissions/pyhpc2011_submission_9.pdf"
   ]
  },
  {
   "cell_type": "code",
   "execution_count": 1,
   "metadata": {},
   "outputs": [],
   "source": [
    "# Importamos pandas. Por comodidad (y convención) lo renombramos con \"pd\"\n",
    "import pandas as pd"
   ]
  },
  {
   "cell_type": "markdown",
   "metadata": {},
   "source": [
    "------"
   ]
  },
  {
   "cell_type": "markdown",
   "metadata": {},
   "source": [
    "## Series\n",
    "\n",
    "Las *Series* de *pandas* son arrays unidimensionales, donde cada elemento tiene un índice o una etiqueta (*label*) asociada"
   ]
  },
  {
   "cell_type": "code",
   "execution_count": 2,
   "metadata": {},
   "outputs": [
    {
     "name": "stdout",
     "output_type": "stream",
     "text": [
      "s1:\n",
      "0    101\n",
      "1    102\n",
      "2    103\n",
      "3    104\n",
      "4    105\n",
      "5    106\n",
      "dtype: int64\n"
     ]
    }
   ],
   "source": [
    "# Creamos una Series. Si no especificamos las etiquetas para sus elementos, pandas automáticamente asigna los índices\n",
    "s1 = pd.Series([101, 102, 103, 104, 105, 106])\n",
    "print('s1:'); print(s1)"
   ]
  },
  {
   "cell_type": "code",
   "execution_count": 3,
   "metadata": {},
   "outputs": [
    {
     "name": "stdout",
     "output_type": "stream",
     "text": [
      "s2:\n",
      "a    101\n",
      "b    102\n",
      "c    103\n",
      "d    104\n",
      "e    105\n",
      "f    106\n",
      "dtype: int64\n"
     ]
    }
   ],
   "source": [
    "# También podemos indicar las etiquetas para cada uno de los elementos de la Series\n",
    "s2 = pd.Series(data=[101,102,103,104,105,106], index=['a', 'b', 'c', 'd', 'e', 'f'])\n",
    "print('s2:')\n",
    "print(s2)"
   ]
  },
  {
   "cell_type": "code",
   "execution_count": 4,
   "metadata": {},
   "outputs": [
    {
     "name": "stdout",
     "output_type": "stream",
     "text": [
      "s3:\n",
      "\n",
      "a            101\n",
      "b      cientodos\n",
      "c            103\n",
      "d            104\n",
      "e    cientocinco\n",
      "f            106\n",
      "dtype: object\n"
     ]
    }
   ],
   "source": [
    "# Podemos incluir varios tipos de datos en una misma Series:\n",
    "s3 = pd.Series(data=[101,'cientodos',103,104,'cientocinco',106], index=['a', 'b', 'c', 'd', 'e', 'f'])\n",
    "print('s3:\\n'); print(s3)\n",
    "# Notemos cómo el dtype es 'object' --> esto ocurre cuando se tienen tipos mixtos en una misma serie"
   ]
  },
  {
   "cell_type": "markdown",
   "metadata": {},
   "source": [
    "Hay varias maneras de acceder a los elemntos de una Series..."
   ]
  },
  {
   "cell_type": "code",
   "execution_count": 5,
   "metadata": {},
   "outputs": [
    {
     "name": "stdout",
     "output_type": "stream",
     "text": [
      "101\n",
      "cientocinco\n"
     ]
    }
   ],
   "source": [
    "# Si queremos usar la etiqueta del elementos para obtener su valor:\n",
    "print(s3['a'])\n",
    "print(s3.loc['e']) "
   ]
  },
  {
   "cell_type": "code",
   "execution_count": 6,
   "metadata": {},
   "outputs": [
    {
     "name": "stdout",
     "output_type": "stream",
     "text": [
      "101\n",
      "cientocinco\n"
     ]
    }
   ],
   "source": [
    "# Si queremos usar el ínidice posicional del elemento para acceder a su valor\n",
    "print(s3[0])\n",
    "print(s3.iloc[4]) # Ésta manera de obtener los valores será la que usaremos en los DataFrames\n",
    "# Al igual que en numpy, los índices comienzan en 0"
   ]
  },
  {
   "cell_type": "markdown",
   "metadata": {},
   "source": [
    "En lo anterior, usamos 'loc' y 'iloc' para acceder a los elementos. *loc* se emplea cuando queremos acceder a los valores con las etiquetas, mientras que *iloc* lo usamos cuando queremos acceder a los valores a partir de sus índices (posición en la Series)"
   ]
  },
  {
   "cell_type": "code",
   "execution_count": 7,
   "metadata": {},
   "outputs": [
    {
     "name": "stdout",
     "output_type": "stream",
     "text": [
      "a    101\n",
      "b    102\n",
      "dtype: int64 \n",
      "\n",
      "a    101\n",
      "b    102\n",
      "dtype: int64\n"
     ]
    }
   ],
   "source": [
    "# Para obtener el valor de varios elementos a la vez, se debe emplear una lista de elementos\n",
    "print(s2.loc[['a', 'b']], '\\n')\n",
    "print(s2.iloc[[0,1]])"
   ]
  },
  {
   "cell_type": "markdown",
   "metadata": {},
   "source": [
    "La mayoría de la operaciones que vimos en numpy también son válidas en pandas. Nos interesan particularmente las operaciones aritméticas y las que nos permiten filtrar elementos..."
   ]
  },
  {
   "cell_type": "code",
   "execution_count": 8,
   "metadata": {},
   "outputs": [
    {
     "name": "stdout",
     "output_type": "stream",
     "text": [
      "a    10100\n",
      "b    10200\n",
      "c    10300\n",
      "d    10400\n",
      "e    10500\n",
      "f    10600\n",
      "dtype: int64 \n",
      "\n",
      "a    202\n",
      "b    204\n",
      "c    206\n",
      "d    208\n",
      "e    210\n",
      "f    212\n",
      "dtype: int64\n"
     ]
    }
   ],
   "source": [
    "# Por ejemplo, multipliquemos y sumemos todos los elementos de una Series:\n",
    "print(s2*100, '\\n')\n",
    "print(s2+s2)"
   ]
  },
  {
   "cell_type": "markdown",
   "metadata": {},
   "source": [
    "-----"
   ]
  },
  {
   "cell_type": "markdown",
   "metadata": {},
   "source": [
    "## DataFrames"
   ]
  },
  {
   "cell_type": "markdown",
   "metadata": {},
   "source": [
    "Los *DataFrames* de *pandas* son estructuras de datos de dos dimensiones, donde cada elemento tiene dos etiquetas (renglón y columna) asociadas. La etiqueta correspondiente al renglón puede ser simplemente un índice. \n",
    "\n",
    "Normalmente los *DataFrames* se alimentan con datos que importamos de otro lugar (archivos csv, archivos txt, archivos JSON, APIs, etc.)"
   ]
  },
  {
   "cell_type": "code",
   "execution_count": 9,
   "metadata": {},
   "outputs": [
    {
     "data": {
      "text/html": [
       "<div>\n",
       "<style scoped>\n",
       "    .dataframe tbody tr th:only-of-type {\n",
       "        vertical-align: middle;\n",
       "    }\n",
       "\n",
       "    .dataframe tbody tr th {\n",
       "        vertical-align: top;\n",
       "    }\n",
       "\n",
       "    .dataframe thead th {\n",
       "        text-align: right;\n",
       "    }\n",
       "</style>\n",
       "<table border=\"1\" class=\"dataframe\">\n",
       "  <thead>\n",
       "    <tr style=\"text-align: right;\">\n",
       "      <th></th>\n",
       "      <th>uno</th>\n",
       "      <th>dos</th>\n",
       "    </tr>\n",
       "  </thead>\n",
       "  <tbody>\n",
       "    <tr>\n",
       "      <th>alfa</th>\n",
       "      <td>1.0</td>\n",
       "      <td>4.0</td>\n",
       "    </tr>\n",
       "    <tr>\n",
       "      <th>beta</th>\n",
       "      <td>2.0</td>\n",
       "      <td>7.0</td>\n",
       "    </tr>\n",
       "    <tr>\n",
       "      <th>delta</th>\n",
       "      <td>NaN</td>\n",
       "      <td>6.0</td>\n",
       "    </tr>\n",
       "    <tr>\n",
       "      <th>dseta</th>\n",
       "      <td>NaN</td>\n",
       "      <td>5.0</td>\n",
       "    </tr>\n",
       "    <tr>\n",
       "      <th>gamma</th>\n",
       "      <td>3.0</td>\n",
       "      <td>NaN</td>\n",
       "    </tr>\n",
       "  </tbody>\n",
       "</table>\n",
       "</div>"
      ],
      "text/plain": [
       "       uno  dos\n",
       "alfa   1.0  4.0\n",
       "beta   2.0  7.0\n",
       "delta  NaN  6.0\n",
       "dseta  NaN  5.0\n",
       "gamma  3.0  NaN"
      ]
     },
     "metadata": {},
     "output_type": "display_data"
    }
   ],
   "source": [
    "# Hay muchas maneras de crear DataFrames. En este ejemplo, crearemos un DataFrame a partir de un diccionario...\n",
    "\n",
    "# Primero creamos dos Series\n",
    "ser01 = pd.Series(data=[1,2,3], index=['alfa', 'beta', 'gamma'])\n",
    "ser02 = pd.Series(data=[4,5, 6, 7], index=['alfa', 'dseta', 'delta', 'beta'])\n",
    "\n",
    "# Creamos un diccionario usando las Series\n",
    "d = {'uno': ser01, \n",
    "     'dos': ser02\n",
    "    }\n",
    "\n",
    "# Creamos un DataFrame usando el diccionario\n",
    "df = pd.DataFrame(d)\n",
    "display(df) "
   ]
  },
  {
   "cell_type": "markdown",
   "metadata": {},
   "source": [
    "Al igual que con las Series, las mayoría de las operaciones de NumPy también son válidas cuando estamos trabajando con DataFrames."
   ]
  },
  {
   "cell_type": "code",
   "execution_count": null,
   "metadata": {},
   "outputs": [],
   "source": []
  }
 ],
 "metadata": {
  "kernelspec": {
   "display_name": "Python 3",
   "language": "python",
   "name": "python3"
  },
  "language_info": {
   "codemirror_mode": {
    "name": "ipython",
    "version": 3
   },
   "file_extension": ".py",
   "mimetype": "text/x-python",
   "name": "python",
   "nbconvert_exporter": "python",
   "pygments_lexer": "ipython3",
   "version": "3.7.2"
  }
 },
 "nbformat": 4,
 "nbformat_minor": 2
}
