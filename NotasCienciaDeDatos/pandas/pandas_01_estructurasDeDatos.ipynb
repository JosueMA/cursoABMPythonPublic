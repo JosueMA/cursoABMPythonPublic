{
 "cells": [
  {
   "cell_type": "markdown",
   "metadata": {},
   "source": [
    "# Estructuras de datos en pandas"
   ]
  },
  {
   "cell_type": "markdown",
   "metadata": {},
   "source": [
    "En este *notebook* exploraremos las dos principales estructuras de datos en *pandas*: *Series* y *DataFrames*"
   ]
  },
  {
   "cell_type": "markdown",
   "metadata": {},
   "source": [
    "Algunos *shortcuts* útiles:\n",
    "* tab --> ofrece sugerencias sobre funciones y atributos \n",
    "* shift + tab --> muestra la documentación \n",
    "* shift + enter --> run cell"
   ]
  },
  {
   "cell_type": "markdown",
   "metadata": {},
   "source": [
    "Documentación de *pandas*:  http://pandas.pydata.org/pandas-docs/stable/\n",
    "\n",
    "Para saber un poco más sobre la idea detrás de pandas: dlr.de/sc/Portaldata/15/Resources/dokumente/pyhpc2011/submissions/pyhpc2011_submission_9.pdf"
   ]
  },
  {
   "cell_type": "code",
   "execution_count": null,
   "metadata": {},
   "outputs": [],
   "source": [
    "# Importamos pandas. Por comodidad (y convención) lo renombramos con \"pd\"\n",
    "import pandas as pd"
   ]
  },
  {
   "cell_type": "markdown",
   "metadata": {},
   "source": [
    "------"
   ]
  },
  {
   "cell_type": "markdown",
   "metadata": {},
   "source": [
    "## Series\n",
    "\n",
    "Las *Series* de *pandas* son arrays unidimensionales, donde cada elemento tiene un índice o una etiqueta (*label*) asociada"
   ]
  },
  {
   "cell_type": "code",
   "execution_count": null,
   "metadata": {},
   "outputs": [],
   "source": [
    "# Creamos una Series. Si no especificamos las etiquetas para sus elementos, pandas automáticamente asigna los índices\n",
    "s1 = pd.Series([101, 102, 103, 104, 105, 106])\n",
    "print('s1:'); print(s1)"
   ]
  },
  {
   "cell_type": "code",
   "execution_count": null,
   "metadata": {},
   "outputs": [],
   "source": [
    "# También podemos indicar las etiquetas para cada uno de los elementos de la Series\n",
    "s2 = pd.Series(data=[101,102,103,104,105,106], index=['a', 'b', 'c', 'd', 'e', 'f'])\n",
    "print('s2:')\n",
    "print(s2)"
   ]
  },
  {
   "cell_type": "code",
   "execution_count": null,
   "metadata": {},
   "outputs": [],
   "source": [
    "# Podemos incluir varios tipos de datos en una misma Series:\n",
    "s3 = pd.Series(data=[101,'cientodos',103,104,'cientocinco',106], index=['a', 'b', 'c', 'd', 'e', 'f'])\n",
    "print('s3:\\n'); print(s3)\n",
    "# Notemos cómo el dtype es 'object' --> esto ocurre cuando se tienen tipos mixtos en una misma serie"
   ]
  },
  {
   "cell_type": "markdown",
   "metadata": {},
   "source": [
    "Hay varias maneras de acceder a los elemntos de una Series..."
   ]
  },
  {
   "cell_type": "code",
   "execution_count": null,
   "metadata": {},
   "outputs": [],
   "source": [
    "# Si queremos usar la etiqueta del elementos para obtener su valor:\n",
    "print(s3['a'])\n",
    "print(s3.loc['e']) "
   ]
  },
  {
   "cell_type": "code",
   "execution_count": null,
   "metadata": {},
   "outputs": [],
   "source": [
    "# Si queremos usar el ínidice posicional del elemento para acceder a su valor\n",
    "print(s3[0])\n",
    "print(s3.iloc[4]) # Ésta manera de obtener los valores será la que usaremos en los DataFrames\n",
    "# Al igual que en numpy, los índices comienzan en 0"
   ]
  },
  {
   "cell_type": "markdown",
   "metadata": {},
   "source": [
    "En lo anterior, usamos 'loc' y 'iloc' para acceder a los elementos. *loc* se emplea cuando queremos acceder a los valores con las etiquetas, mientras que *iloc* lo usamos cuando queremos acceder a los valores a partir de sus índices (posición en la Series)"
   ]
  },
  {
   "cell_type": "code",
   "execution_count": null,
   "metadata": {},
   "outputs": [],
   "source": [
    "# Para obtener el valor de varios elementos a la vez, se debe emplear una lista de elementos\n",
    "print(s2.loc[['a', 'b']], '\\n')\n",
    "print(s2.iloc[[0,1]])"
   ]
  },
  {
   "cell_type": "markdown",
   "metadata": {},
   "source": [
    "La mayoría de la operaciones que vimos en numpy también son válidas en pandas. Nos interesan particularmente las operaciones aritméticas y las que nos permiten filtrar elementos..."
   ]
  },
  {
   "cell_type": "code",
   "execution_count": null,
   "metadata": {},
   "outputs": [],
   "source": [
    "# Por ejemplo, multipliquemos y sumemos todos los elementos de una Series:\n",
    "print(s2*100, '\\n')\n",
    "print(s2+s2)"
   ]
  },
  {
   "cell_type": "markdown",
   "metadata": {},
   "source": [
    "-----"
   ]
  },
  {
   "cell_type": "markdown",
   "metadata": {},
   "source": [
    "## DataFrames"
   ]
  },
  {
   "cell_type": "markdown",
   "metadata": {},
   "source": [
    "Los *DataFrames* de *pandas* son estructuras de datos de dos dimensiones, donde cada elemento tiene dos etiquetas (renglón y columna) asociadas. La etiqueta correspondiente al renglón puede ser simplemente un índice. \n",
    "\n",
    "Normalmente los *DataFrames* se alimentan con datos que importamos de otro lugar (archivos csv, archivos txt, archivos JSON, APIs, etc.)"
   ]
  },
  {
   "cell_type": "code",
   "execution_count": null,
   "metadata": {},
   "outputs": [],
   "source": [
    "# Hay muchas maneras de crear DataFrames. En este ejemplo, crearemos un DataFrame a partir de un diccionario...\n",
    "\n",
    "# Primero creamos dos Series\n",
    "ser01 = pd.Series(data=[1,2,3], index=['alfa', 'beta', 'gamma'])\n",
    "ser02 = pd.Series(data=[4,5, 6, 7], index=['alfa', 'dseta', 'delta', 'beta'])\n",
    "\n",
    "# Creamos un diccionario usando las Series\n",
    "d = {'uno': ser01, \n",
    "     'dos': ser02\n",
    "    }\n",
    "\n",
    "# Creamos un DataFrame usando el diccionario\n",
    "df = pd.DataFrame(d)\n",
    "display(df) "
   ]
  },
  {
   "cell_type": "markdown",
   "metadata": {},
   "source": [
    "Al igual que con las Series, las mayoría de las operaciones de NumPy también son válidas cuando estamos trabajando con DataFrames."
   ]
  }
 ],
 "metadata": {
  "kernelspec": {
   "display_name": "Python 3",
   "language": "python",
   "name": "python3"
  },
  "language_info": {
   "codemirror_mode": {
    "name": "ipython",
    "version": 3
   },
   "file_extension": ".py",
   "mimetype": "text/x-python",
   "name": "python",
   "nbconvert_exporter": "python",
   "pygments_lexer": "ipython3",
   "version": "3.7.2"
  }
 },
 "nbformat": 4,
 "nbformat_minor": 2
}
