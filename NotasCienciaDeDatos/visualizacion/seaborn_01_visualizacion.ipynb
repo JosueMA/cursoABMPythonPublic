{
 "cells": [
  {
   "cell_type": "markdown",
   "metadata": {},
   "source": [
    "# Visualizaciones con matplotlib y seaborn"
   ]
  },
  {
   "cell_type": "markdown",
   "metadata": {},
   "source": [
    "Algunos *shortcuts* útiles:\n",
    "* tab --> ofrece sugerencias sobre funciones y atributos \n",
    "* shift + tab --> muestra la documentación del objeto \n",
    "* shift + enter --> run cell"
   ]
  },
  {
   "cell_type": "markdown",
   "metadata": {},
   "source": [
    "[Documentación de seaborn](https://seaborn.pydata.org/)\n",
    "\n",
    "[Documentación de matplotlib](https://matplotlib.org/)"
   ]
  },
  {
   "cell_type": "code",
   "execution_count": null,
   "metadata": {},
   "outputs": [],
   "source": [
    "import pandas as pd\n",
    "import seaborn as sns\n",
    "import matplotlib.pyplot as plt\n",
    "import warnings\n",
    "\n",
    "sns.set_style('darkgrid') # establecemos el estilo general de seaborn que queremos usas\n",
    "warnings.filterwarnings(\"ignore\") # para que no nos muestre los warnings\n",
    "\n",
    "# comando para que se puedan mostrar las gráficas en el notebook:\n",
    "%matplotlib inline"
   ]
  },
  {
   "cell_type": "code",
   "execution_count": null,
   "metadata": {},
   "outputs": [],
   "source": [
    "# Importamos la base con la que estaremos trabajando\n",
    "data = pd.read_csv('data/indicadores_clean.csv')\n",
    "data.head()"
   ]
  },
  {
   "cell_type": "code",
   "execution_count": null,
   "metadata": {},
   "outputs": [],
   "source": [
    "# Importamos la base de metadatos (para saber a qué se refiere cada variable)\n",
    "meta_data = pd.read_csv('data/indicadores_metadata.csv')\n",
    "meta_data"
   ]
  },
  {
   "cell_type": "code",
   "execution_count": null,
   "metadata": {},
   "outputs": [],
   "source": [
    "# Veamos qué tipo de dato hay en cada columna\n",
    "data.info()"
   ]
  },
  {
   "cell_type": "code",
   "execution_count": null,
   "metadata": {},
   "outputs": [],
   "source": [
    "# Cuando tenemos variables categóricas, conviene explicitar su tipo. \n",
    "# Esto facilitará el proceso de las visualizaciones.\n",
    "# Para este caso, las variables categóricas son: region, inc_group (income group) y region_code\n",
    "\n",
    "# Convertimos el tipo de las columnas:\n",
    "data.region = data.region.astype('category')\n",
    "data.inc_group = data.inc_group.astype('category')\n",
    "data.region_code = data.region_code.astype('category')"
   ]
  },
  {
   "cell_type": "markdown",
   "metadata": {},
   "source": [
    "#### Diccionarios para el estilo de los de para las gráficas"
   ]
  },
  {
   "cell_type": "code",
   "execution_count": null,
   "metadata": {},
   "outputs": [],
   "source": [
    "# Creamos unos diccionarios que nos servirán más adelante, para indicar cuestiones de estilo en nuestras gráficas.\n",
    "# Esto se podría hacer directamente sobre las gráficas pero, si nos interesa tener un estilo unificado, conviene\n",
    "# hacerlo todo en un solo lugar (además de que los cambios que queramos hacer serán más sencillos de hacer)\n",
    "\n",
    "# Diccionario para los títulos\n",
    "title_font = { 'size': 16,\n",
    "             }\n",
    "\n",
    "# Diccionario para los textos en los ejes\n",
    "axes_font = {'size':14, 'color':  'darkred',}"
   ]
  },
  {
   "cell_type": "markdown",
   "metadata": {},
   "source": [
    "#### Histogramas"
   ]
  },
  {
   "cell_type": "code",
   "execution_count": null,
   "metadata": {},
   "outputs": [],
   "source": [
    "# Generar un histograma a con el número de celulares por cada 100 habitantes...\n",
    "\n",
    "# Fijamos el tamaño de nuestra gráfica\n",
    "plt.figure(figsize=(8,8))\n",
    "\n",
    "vis01 = sns.distplot(data.cellph_per100.dropna(), kde=False)\n",
    "# Aquí llamamos el método de dropna() para eliminar las observaciones con valores faltantes\n",
    "# Notar que no importa si usamos data.cellph_per100, data['cellph_per100'] o data.loc['cellph_per100'] --> Lo importante es pasar un argumento válido\n",
    "\n",
    "# Ponemos un título a la gráfica y a cada eje (nótese que aquí se usan funciones de pyplot directamente)\n",
    "plt.title('Distribución mundial de número de celulares en uso por \\n cada 100 habitantes', fontdict=title_font)\n",
    "plt.ylabel('Frecuencia (número de países)', fontdict=axes_font)\n",
    "plt.xlabel('Número de celulares en uso por cada 100 habitantes', fontdict=axes_font)\n",
    "\n",
    "plt.show()"
   ]
  },
  {
   "cell_type": "markdown",
   "metadata": {},
   "source": [
    "#### Kernel Density Estimation Plot"
   ]
  },
  {
   "cell_type": "code",
   "execution_count": null,
   "metadata": {
    "scrolled": true
   },
   "outputs": [],
   "source": [
    "# Veamos cuáles son las categorías que tenemos para inc_group (income group):\n",
    "for cat in data.inc_group.cat.categories: print(cat)"
   ]
  },
  {
   "cell_type": "code",
   "execution_count": null,
   "metadata": {},
   "outputs": [],
   "source": [
    "plt.figure(figsize=(8,8))\n",
    "# Podemos hacer varias gráficas en un solo lugar\n",
    "vis01a = sns.kdeplot(data.loc[data.inc_group == 'low', 'fertility'], label='Low income')\n",
    "vis01b = sns.kdeplot(data.loc[data.inc_group == 'lower_mid', 'fertility'], label='Lower middle income')\n",
    "vis01c = sns.kdeplot(data.loc[data.inc_group == 'upper_mid', 'fertility'], label='Uppder middle income')\n",
    "\n",
    "# Ponemos título a la gráfica y \n",
    "plt.title('Kernel Density Plot para la fertilidad de los países \\n por grupo de ingreso', fontdict=title_font)\n",
    "plt.ylabel('Densidad', fontdict=axes_font)\n",
    "plt.xlabel('Fertilidad', fontdict=axes_font)\n",
    "\n",
    "# Para cambiar el estilo de la leyenda\n",
    "plt.legend(fontsize='x-large', title_fontsize='20')\n",
    "\n",
    "# Modificamos el estilo y layout de los 'ticks' en los dos ejes\n",
    "plt.xticks(fontsize=12)\n",
    "plt.yticks(fontsize=12)\n",
    "\n",
    "\n",
    "plt.show()"
   ]
  },
  {
   "cell_type": "markdown",
   "metadata": {},
   "source": [
    "#### Boxplots"
   ]
  },
  {
   "cell_type": "code",
   "execution_count": null,
   "metadata": {},
   "outputs": [],
   "source": [
    "plt.figure(figsize=(12,8))\n",
    "# Boxplots\n",
    "# Notar que la manera en que pide la información es diferente de distplot)()\n",
    "vis02 = sns.boxplot(data=data, x='region', y='val_primary')\n",
    "\n",
    "# Ponemos título a la gráfica y a los ejes\n",
    "plt.title('Porcentaje de aportación al PIB de las actividades \\n económicas primarias, por región', fontdict=title_font)\n",
    "plt.ylabel('Aportación al PIB (porcentaje)', fontdict=axes_font)\n",
    "plt.xlabel('Región', fontdict=axes_font)\n",
    "\n",
    "# Modificamos el estilo y layout de los 'ticks' en los dos ejes\n",
    "plt.xticks(fontsize=12, rotation=45, ha=\"right\" , rotation_mode='anchor')\n",
    "plt.yticks(fontsize=12)\n",
    "\n",
    "\n",
    "plt.show()"
   ]
  },
  {
   "cell_type": "markdown",
   "metadata": {},
   "source": [
    "#### Violin plots"
   ]
  },
  {
   "cell_type": "code",
   "execution_count": null,
   "metadata": {},
   "outputs": [],
   "source": [
    "plt.figure(figsize=(12,8))\n",
    "\n",
    "# Definimos un subconjunto de nuestros datos (nos interesa que no haya valores faltantes en la columna de internet_users)\n",
    "data06 = data.loc[data.internet_users.notnull(), :]\n",
    "vis06 = sns.violinplot(data=data06, x='inc_group', y='internet_users')\n",
    "\n",
    "\n",
    "# Ponemos título a la gráfica\n",
    "plt.title('Distribución del número de usuarios de internet (%) por países \\nagrupados según su ingreso per cápita', fontdict=title_font)\n",
    "plt.ylabel('Usuarios de internet (por cada 100 habitantes)', fontdict=axes_font)\n",
    "plt.xlabel('Grupo de ingreso', fontdict=axes_font)\n",
    "\n",
    "# Camibamos las etiquetas del eje de las x, y el tamaño fuente de ambos ejes\n",
    "plt.xticks(ticks=[0,1,2,3], labels=['Alto', 'Bajo', 'Medio bajo', 'Medio alto'], fontsize=14)\n",
    "plt.yticks(fontsize=14)\n",
    "\n",
    "plt.show()\n"
   ]
  },
  {
   "cell_type": "markdown",
   "metadata": {},
   "source": [
    "#### Diagrama de dispersión (scatter plot)"
   ]
  },
  {
   "cell_type": "code",
   "execution_count": null,
   "metadata": {},
   "outputs": [],
   "source": [
    "plt.figure(figsize=(12,8))\n",
    "\n",
    "vis03 = sns.scatterplot(data=data, x='val_primary', y='gdp_pc', hue='region', s=80)\n",
    "\n",
    "# Ponemos título a la gráfica \n",
    "plt.title('Aportación porcentual del las actividades primarias al PIB \\n y PIB per cápita', fontdict=title_font)\n",
    "plt.xlabel('Aportación porcentual de las actividades primarias al PIB', fontdict=axes_font)\n",
    "plt.ylabel('PIB per cápita', fontdict=axes_font)\n",
    "\n",
    "# Para cambiar el estilo de la leyenda\n",
    "plt.legend(fontsize='x-large', title_fontsize='15')\n",
    "\n",
    "# Modificamos el estilo y layout de los 'ticks' en los dos ejes\n",
    "plt.xticks(fontsize=14)\n",
    "plt.yticks(fontsize=14)\n",
    "\n",
    "\n",
    "plt.show()"
   ]
  },
  {
   "cell_type": "markdown",
   "metadata": {},
   "source": [
    "#### Linear model plot"
   ]
  },
  {
   "cell_type": "code",
   "execution_count": null,
   "metadata": {},
   "outputs": [],
   "source": [
    "plt.figure(figsize=(12,8))\n",
    "\n",
    "vis03 = sns.lmplot(data=data, x='internet_users', y='fertility', size=8, \\\n",
    "                   aspect=1.5, scatter_kws = {'s':100, 'marker':'P'})\n",
    "#  NOTA: Esta gráfica no ajusta su tamaño... En la descripción dice: \"it fits across a FacetGrid\". Por eso hay que indicar el tamaño manualmente\n",
    "\n",
    "# Ponemos título a la gráfica \n",
    "plt.title('Número de usuarios de internet por cada cien habitantes y fertilidad', fontdict=title_font)\n",
    "plt.xlabel('Usuarios de internet por cada cien habitantes', fontdict=axes_font)\n",
    "plt.ylabel('Fertilidad', fontdict=axes_font)\n",
    "\n",
    "\n",
    "# Modificamos el estilo y layout de los 'ticks' en los dos ejes\n",
    "plt.xticks(fontsize=14)\n",
    "plt.yticks(fontsize=14)\n",
    "\n",
    "\n",
    "plt.show()\n"
   ]
  },
  {
   "cell_type": "code",
   "execution_count": null,
   "metadata": {},
   "outputs": [],
   "source": [
    "# NOTA: Si queremos cambiar el color de los markers en lmplot, vemos que hay unos argumentos\n",
    "# que se pasan en forma de diccionario (scatter_kws o line_kws)\n",
    "# En https://seaborn.pydata.org/generated/seaborn.lmplot.html, al buscar 'scatter_kws', vemos\n",
    "# que hace referencia a plt.scatter y plt.plot (recordemos que seaborn se deriva de matplotlib)\n",
    "# Al buscar en la página de matplotlib.pyplot.scatter (https://matplotlib.org/3.1.1/api/_as_gen/matplotlib.pyplot.scatter.html), \n",
    "# podemos ver qué argumentos recibe la función. "
   ]
  },
  {
   "cell_type": "markdown",
   "metadata": {},
   "source": [
    "#### Cómo crear un Facet Grid"
   ]
  },
  {
   "cell_type": "code",
   "execution_count": null,
   "metadata": {},
   "outputs": [],
   "source": [
    "# Nótese que aquí el tamaño de la gráfica y el ratio altura-ancho se especifica directamente sobre la función lmplot()\n",
    "vis03 = sns.lmplot(data=data, x='val_services', y='internet_users', size=8, \\\n",
    "                   aspect=1.5, scatter_kws = {'s':100, 'marker':'P'}, hue='region', fit_reg=False)"
   ]
  },
  {
   "cell_type": "code",
   "execution_count": null,
   "metadata": {
    "scrolled": false
   },
   "outputs": [],
   "source": [
    "# Supongamos que nos interesa explorar la relación entre usuarios de internet, acceso electricidad\n",
    "# según región y grupo de ingresos del país\n",
    "g = sns.FacetGrid(data, row='region_code', col='inc_group', hue='region_code')\n",
    "\n",
    "kws = dict(s=50, linewidth=0.5, edgecolor='black')\n",
    "g = g.map(plt.scatter, 'electricity', 'internet_users', **kws) "
   ]
  },
  {
   "cell_type": "code",
   "execution_count": null,
   "metadata": {
    "scrolled": true
   },
   "outputs": [],
   "source": [
    "# Podemos asignar cualquier gráfica al grid\n",
    "g = sns.FacetGrid(data, row='region_code', col='inc_group', hue='region_code')\n",
    "g = g.map(plt.hist, 'internet_users') \n"
   ]
  },
  {
   "cell_type": "markdown",
   "metadata": {},
   "source": [
    "#### Cómo incorporar coordenadas y líneas en la gráfica"
   ]
  },
  {
   "cell_type": "code",
   "execution_count": null,
   "metadata": {},
   "outputs": [],
   "source": [
    "# Supongamos que nos interesa explorar la relación entre usuarios de internet, acceso electricidad\n",
    "# según región y grupo de ingresos del país\n",
    "g = sns.FacetGrid(data, row='region_code', col='inc_group', hue='region_code')\n",
    "\n",
    "kws = dict(s=50, linewidth=0.5, edgecolor='black')\n",
    "g = g.map(plt.scatter, 'electricity', 'internet_users', **kws) \n",
    "g.set(xlim=(0,110), ylim=(0,110))\n",
    "\n",
    "\n",
    "for ax in g.axes.flat: # convierte el array para tratarlo como un objeto de una sola dimensión\n",
    "    ax.plot((0,110), (1,110), c='gray', ls='--')\n",
    "g.add_legend()\n",
    "plt.show()"
   ]
  },
  {
   "cell_type": "markdown",
   "metadata": {},
   "source": [
    "#### Cómo crear dashboards "
   ]
  },
  {
   "cell_type": "code",
   "execution_count": null,
   "metadata": {
    "scrolled": false
   },
   "outputs": [],
   "source": [
    "sns.set_style('darkgrid')\n",
    "\n",
    "# creamos un dashboard con 4 «espacios» para gráficas (2x2)\n",
    "f, axes = plt.subplots(2, 2, figsize=(15,15))\n",
    "\n",
    "# veamos qué tipo de objetos regresa la función subplots()\n",
    "print(f'tipo de \"f\": {type(f)}\\ntipo de \"axes\": {type(axes)}')\n",
    "\n",
    "# ahora asignemos cuatro gráficas a nuestro dashboard..\n",
    "# --------------------------- axes[0,0]\n",
    "vis01a = sns.kdeplot(data.loc[data.inc_group == 'low', 'fertility'], label='Low income', ax=axes[0,0])\n",
    "vis01b = sns.kdeplot(data.loc[data.inc_group == 'lower_mid', 'fertility'], label='Lower middle income', ax=axes[0,0])\n",
    "vis01c = sns.kdeplot(data.loc[data.inc_group == 'upper_mid', 'fertility'], label='Uppder middle income', ax=axes[0,0])\n",
    "axes[0,0].title.set_text('KD plot para fertilidad en los países por grupo de ingreso')\n",
    "axes[0,0].set_xlabel('Fertilidad')\n",
    "axes[0,0].set_ylabel('Densidad')\n",
    "\n",
    "# --------------------------- axes[0,1]\n",
    "vis03 = sns.scatterplot(data=data, x='fertility', y='internet_users',  \\\n",
    "                    hue='region', ax=axes[0,1], s=70)\n",
    "axes[0,1].title.set_text('Fertilidad y uso de internet')\n",
    "axes[0,1].set_xlabel('Fertilidad')\n",
    "axes[0,1].set_ylabel('Usuarios de internet por cada 100 personas')\n",
    "\n",
    "\n",
    "# --------------------------- axes[1,0]\n",
    "data06 = data.loc[data.internet_users.notnull(), :]\n",
    "vis06 = sns.violinplot(data=data06, x='inc_group', y='internet_users', ax=axes[1,0])\n",
    "axes[1,0].title.set_text('Distribución del número de usuarios de internet (%) por países \\nagrupados según su ingreso per cápita')\n",
    "axes[1,0].set_xlabel('Grupo de ingreso')\n",
    "axes[1,0].set_ylabel('Usuarios de internet por cada 100 personas')\n",
    "\n",
    "# -------------------------- axes[1,1]\n",
    "# Si quisiéramos incluir una gráfica generada directamente con matplotlib.pyplot\n",
    "# (en lugar de con seaborn), es necesario cambiar un poco la sintaxis. Por ejemplo,\n",
    "# para un histograma de pyplot:\n",
    "axes[1,1].hist(data.cellph_per100.dropna())\n",
    "axes[1,1].title.set_text('Distribución mundial de número de celulares en uso \\npor cada 100 habitantes')\n",
    "axes[1,1].set_xlabel('Número de celulares en uso por cada 100 habitantes')\n",
    "axes[1,1].set_ylabel('Frecuencia (número de países)')\n",
    "\n",
    "\n",
    "plt.show()\n",
    "\n"
   ]
  },
  {
   "cell_type": "markdown",
   "metadata": {},
   "source": [
    "#### Cómo exportar las gráficas"
   ]
  },
  {
   "cell_type": "code",
   "execution_count": null,
   "metadata": {},
   "outputs": [],
   "source": [
    "sns.set_style('darkgrid')\n",
    "\n",
    "# creamos un dashboard con 4 «espacios» para gráficas (2x2)\n",
    "f, axes = plt.subplots(2, 2, figsize=(15,15))\n",
    "\n",
    "# veamos qué tipo de objetos regresa la función subplots()\n",
    "print(f'tipo de \"f\": {type(f)}\\ntipo de \"axes\": {type(axes)}')\n",
    "\n",
    "# ahora asignemos cuatro gráficas a nuestro dashboard..\n",
    "# --------------------------- axes[0,0]\n",
    "vis01a = sns.kdeplot(data.loc[data.inc_group == 'low', 'fertility'], label='Low income', ax=axes[0,0])\n",
    "vis01b = sns.kdeplot(data.loc[data.inc_group == 'lower_mid', 'fertility'], label='Lower middle income', ax=axes[0,0])\n",
    "vis01c = sns.kdeplot(data.loc[data.inc_group == 'upper_mid', 'fertility'], label='Uppder middle income', ax=axes[0,0])\n",
    "axes[0,0].title.set_text('KD plot para fertilidad en los países por grupo de ingreso')\n",
    "axes[0,0].set_xlabel('Fertilidad')\n",
    "axes[0,0].set_ylabel('Densidad')\n",
    "\n",
    "# --------------------------- axes[0,1]\n",
    "vis03 = sns.scatterplot(data=data, x='fertility', y='internet_users',  \\\n",
    "                    hue='region', ax=axes[0,1], s=70)\n",
    "axes[0,1].title.set_text('Fertilidad y uso de internet')\n",
    "axes[0,1].set_xlabel('Fertilidad')\n",
    "axes[0,1].set_ylabel('Usuarios de internet por cada 100 personas')\n",
    "\n",
    "\n",
    "# --------------------------- axes[1,0]\n",
    "data06 = data.loc[data.internet_users.notnull(), :]\n",
    "vis06 = sns.violinplot(data=data06, x='inc_group', y='internet_users', ax=axes[1,0])\n",
    "axes[1,0].title.set_text('Distribución del número de usuarios de internet (%) por países \\nagrupados según su ingreso per cápita')\n",
    "axes[1,0].set_xlabel('Grupo de ingreso')\n",
    "axes[1,0].set_ylabel('Usuarios de internet por cada 100 personas')\n",
    "\n",
    "# -------------------------- axes[1,1]\n",
    "# Si quisiéramos incluir una gráfica generada directamente con matplotlib.pyplot\n",
    "# (en lugar de con seaborn), es necesario cambiar un poco la sintaxis. Por ejemplo,\n",
    "# para un histograma de pyplot:\n",
    "axes[1,1].hist(data.cellph_per100.dropna())\n",
    "axes[1,1].title.set_text('Distribución mundial de número de celulares en uso \\npor cada 100 habitantes')\n",
    "axes[1,1].set_xlabel('Número de celulares en uso por cada 100 habitantes')\n",
    "axes[1,1].set_ylabel('Frecuencia (número de países)')\n",
    "\n",
    "\n",
    "# Para guardar las gráficas, en lugar de plt.show(), ponemos\n",
    "plt.savefig('dashboard.png') # para una imagen rasterizada\n",
    "plt.savefig('dashboard.pdf') # para una imagen vectorizada"
   ]
  },
  {
   "cell_type": "code",
   "execution_count": null,
   "metadata": {},
   "outputs": [],
   "source": []
  }
 ],
 "metadata": {
  "kernelspec": {
   "display_name": "Python 3",
   "language": "python",
   "name": "python3"
  },
  "language_info": {
   "codemirror_mode": {
    "name": "ipython",
    "version": 3
   },
   "file_extension": ".py",
   "mimetype": "text/x-python",
   "name": "python",
   "nbconvert_exporter": "python",
   "pygments_lexer": "ipython3",
   "version": "3.7.2"
  }
 },
 "nbformat": 4,
 "nbformat_minor": 2
}
