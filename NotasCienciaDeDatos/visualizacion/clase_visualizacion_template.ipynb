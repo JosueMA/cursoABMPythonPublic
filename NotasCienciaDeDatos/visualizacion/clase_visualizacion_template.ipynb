{
 "cells": [
  {
   "cell_type": "markdown",
   "metadata": {},
   "source": [
    "### Ejercicio 1:\n",
    "1. Importar como DataFrame el archivo `indicadores_clean.csv` que se encuentra en la carpeta de `data` (`data/indicadores_clean.csv`) y asignarle el nombre de `data`\n",
    "2. Importar como DataFrame el archivo `indicadores_metadata.csv` que también se encuentra en la carpeta de `data` (es decir, en `data/indicadores_metadata.csv`) y asignarle el nombre de `meta_data`.\n",
    "3. Determinar cuáles son las columnas de `data` que convendría convertir a un tipo de dato categórico (conviene usar los métodos que vimos la clase anterior para hacer un análisis rápido (`head()`, `info()` y `describe()`)."
   ]
  },
  {
   "cell_type": "markdown",
   "metadata": {},
   "source": [
    "### Histogramas"
   ]
  },
  {
   "cell_type": "markdown",
   "metadata": {},
   "source": [
    "### Kernel Density Estimation Plot"
   ]
  },
  {
   "cell_type": "markdown",
   "metadata": {},
   "source": [
    "## Ejercicio 2:\n",
    "\n",
    "### Histograma\n",
    "Vamos a generar un histograma con las emisiones mundiales de CO2 per cápita. Para ello:<br>\n",
    "1. Determinar el tamaño de la gráfica\n",
    "2. Generar el histograma. \n",
    "3. Asignar título y nombres a los ejes\n",
    "4. Mostrar la gráfica\n"
   ]
  },
  {
   "cell_type": "markdown",
   "metadata": {},
   "source": [
    "## Ejercicio 3:\n",
    "\n",
    "\n",
    "### Kernel Density Estimation Plot\n",
    "Vamos a crear cuatro KDE Plots (superpuestos) donde cada una represente la función de densidad de usuarios de internet para una de las cuatro categorías de ingreso. Para ello:<br>\n",
    "1. Con el DataFrame `data`, obtener los valores únicos de la columna de ingresos (usar `unique()`).\n",
    "2. Crear cuatro filtros (`f_low`, `f_lower_m`, `f_upper_m`, `f_high`). En cada filtro se debe tomar la columna de usuarios de internet de `data` y filtrar una de las cuatro categorías de ingreso.\n",
    "\n",
    "3. Determinar el tamaño de la gráfica \n",
    "4. Generar cuatro KDE Plots superpuestas. Para ello, se deberá aplicar uno de los filtros que se generaron en (2) para filtrar los valores pertinentes de la columna de usuarios de internet de `data`. Asignar las etiquetas correspondientes.\n",
    "5. Asignar título y nombres de los ejes\n",
    "6. Mostrar la gráfica"
   ]
  },
  {
   "cell_type": "markdown",
   "metadata": {},
   "source": [
    "## Boxplots"
   ]
  },
  {
   "cell_type": "markdown",
   "metadata": {},
   "source": [
    "## Violin plots\n",
    "\n"
   ]
  },
  {
   "cell_type": "markdown",
   "metadata": {},
   "source": [
    "## Ejercicio 3 \n",
    "Hacer un violin plot de usuarios de internet por grupo de ingreso (la lógica de los violin plots es muy similar a la de los boxplots)"
   ]
  },
  {
   "cell_type": "markdown",
   "metadata": {},
   "source": [
    "## Diagrama de dispersión (scatter plot)"
   ]
  },
  {
   "cell_type": "code",
   "execution_count": null,
   "metadata": {},
   "outputs": [],
   "source": []
  }
 ],
 "metadata": {
  "kernelspec": {
   "display_name": "Python 3",
   "language": "python",
   "name": "python3"
  },
  "language_info": {
   "codemirror_mode": {
    "name": "ipython",
    "version": 3
   },
   "file_extension": ".py",
   "mimetype": "text/x-python",
   "name": "python",
   "nbconvert_exporter": "python",
   "pygments_lexer": "ipython3",
   "version": "3.7.2"
  }
 },
 "nbformat": 4,
 "nbformat_minor": 2
}
